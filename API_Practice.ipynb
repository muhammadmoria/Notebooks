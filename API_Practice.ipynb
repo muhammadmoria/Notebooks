{
 "cells": [
  {
   "cell_type": "code",
   "execution_count": null,
   "id": "3b9eb177-9fa6-45fd-afc5-a4ec9b3901da",
   "metadata": {},
   "outputs": [],
   "source": []
  },
  {
   "cell_type": "code",
   "execution_count": 1,
   "id": "598115bf-6016-43bf-8527-877ea9405884",
   "metadata": {},
   "outputs": [],
   "source": [
    "import openai"
   ]
  },
  {
   "cell_type": "code",
   "execution_count": 3,
   "id": "0862f7f2-474d-4cde-afc3-db8c8e8fc9cc",
   "metadata": {},
   "outputs": [],
   "source": [
    "import openai\n",
    "\n",
    "openai.api_key = \"sk**********************************************6G\"\n",
    "\n",
    "\n",
    "def generate_blog(topic):\n",
    "    messages = [\n",
    "        {\"role\": \"system\", \"content\": \"\"\"You are trained to analyze a topic and generate a blog post.\n",
    "                                         The blog post must contain (1500 to 3000) words.(No less than 1500 words)\"\"\"},\n",
    "        {\"role\": \"user\", \"content\": f\"Analyze a topic and generate a blog post. This topic is {topic}\"}\n",
    "    ]\n",
    "    \n",
    "    response = openai.ChatCompletion.create(\n",
    "        model=\"gpt-3.5-turbo\",\n",
    "        messages=messages,\n",
    "        max_tokens=3000,  # Increased from 1 to provide a meaningful response\n",
    "        n=1,\n",
    "        stop=None,\n",
    "        temperature=0\n",
    "    )\n",
    "    \n",
    "    response_text = response.choices[0].message['content'].strip().lower()  # Corrected attribute access\n",
    "\n",
    "    return response_text\n",
    "\n",
    "# Example usage\n",
    "#input_1 = \"Artificial Intelligence\"\n",
    "#print(generate_blog(input_1))\n"
   ]
  },
  {
   "cell_type": "code",
   "execution_count": 4,
   "id": "4607f7ef-c062-4fa2-80cc-dde21f13318e",
   "metadata": {},
   "outputs": [],
   "source": [
    "#response = sentiment_analysis(\"I LOVE Pakistan\")\n",
    "#print(response)"
   ]
  },
  {
   "cell_type": "code",
   "execution_count": 5,
   "id": "5260a9ad-3258-4f89-9dc0-af615db40ac0",
   "metadata": {},
   "outputs": [],
   "source": [
    "import openai\n",
    "\n",
    "openai.api_key = \"sk*******************************************J\"\n",
    "\n",
    "def sentiment_analysis(text):\n",
    "    messages = [\n",
    "        {\"role\": \"system\", \"content\": \"You are trained to analyze and detect the sentiment of the given text. If you are unsure, say that you are sorry and suggest searching manually on Google.\"},\n",
    "        {\"role\": \"user\", \"content\": f\"Analyze the text and give an assessment of the user's intent. Please do not provide harmful or negative text. {text}\"}\n",
    "    ]\n",
    "    \n",
    "    response = openai.ChatCompletion.create(\n",
    "        model=\"gpt-3.5-turbo\",\n",
    "        messages=messages,\n",
    "        max_tokens=100,  # Increased from 1 to provide a meaningful response\n",
    "        n=1,\n",
    "        stop=None,\n",
    "        temperature=0\n",
    "    )\n",
    "    \n",
    "    response_text = response['choices'][0]['message']['content'].strip()  # Corrected attribute access\n",
    "\n",
    "    return response_text\n",
    "\n",
    "# Example usage\n",
    "#text = \"I love this product! It works wonderfully and exceeds my expectations.\"\n",
    "#print(sentiment_analysis(text))\n"
   ]
  },
  {
   "cell_type": "code",
   "execution_count": null,
   "id": "badb141c-781b-46d3-85ae-3089f5fdeebc",
   "metadata": {},
   "outputs": [],
   "source": []
  },
  {
   "cell_type": "code",
   "execution_count": null,
   "id": "7cec8992-d1ca-4d14-bc1b-0beef6b92af1",
   "metadata": {},
   "outputs": [],
   "source": []
  },
  {
   "cell_type": "code",
   "execution_count": null,
   "id": "0c286b71-cc55-4561-a8da-c288de9954ac",
   "metadata": {},
   "outputs": [],
   "source": [
    "\n"
   ]
  },
  {
   "cell_type": "code",
   "execution_count": null,
   "id": "5006fd57-e9f3-49d2-9454-b5727e016199",
   "metadata": {},
   "outputs": [],
   "source": []
  },
  {
   "cell_type": "code",
   "execution_count": null,
   "id": "4f7d5dd0-7b42-461b-af02-91d50ab82bb7",
   "metadata": {},
   "outputs": [],
   "source": []
  }
 ],
 "metadata": {
  "kernelspec": {
   "display_name": "Python 3 (ipykernel)",
   "language": "python",
   "name": "python3"
  },
  "language_info": {
   "codemirror_mode": {
    "name": "ipython",
    "version": 3
   },
   "file_extension": ".py",
   "mimetype": "text/x-python",
   "name": "python",
   "nbconvert_exporter": "python",
   "pygments_lexer": "ipython3",
   "version": "3.11.7"
  }
 },
 "nbformat": 4,
 "nbformat_minor": 5
}
